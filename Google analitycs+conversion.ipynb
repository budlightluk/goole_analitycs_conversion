{
 "cells": [
  {
   "cell_type": "code",
   "execution_count": null,
   "id": "a104eb73-e2d3-46fa-b6e7-b6db70c4e4ef",
   "metadata": {},
   "outputs": [],
   "source": [
    "!pip install requests pandas\n"
   ]
  },
  {
   "cell_type": "code",
   "execution_count": null,
   "id": "9534af6a-8ac2-4a4e-9eb6-3fd5c2cdc049",
   "metadata": {},
   "outputs": [],
   "source": [
    "import requests\n",
    "import pandas as pd\n",
    "import json\n",
    "import datetime\n"
   ]
  },
  {
   "cell_type": "code",
   "execution_count": null,
   "id": "9ea1e51d-2fc8-4492-8565-bd567179bc7b",
   "metadata": {},
   "outputs": [],
   "source": [
    "# Конфигурация для Гугл аналитики\n",
    "tracking_id = \"UA-XXXXX-Y\"  # Ваш Tracking ID в Google Analytics\n",
    "client_id_field = \"_ga\"  # Поле в cookies, представляющее client id\n"
   ]
  },
  {
   "cell_type": "markdown",
   "id": "291d7c82-833a-46cd-8349-3e166b3bb433",
   "metadata": {},
   "source": [
    "Задайте конфигурационные параметры для Google Analytics."
   ]
  },
  {
   "cell_type": "code",
   "execution_count": null,
   "id": "59a1026c-c791-4a10-b929-346f20aa9e9e",
   "metadata": {},
   "outputs": [],
   "source": [
    "def send_conversion_to_ga(conversion):\n",
    "    url = \"https://www.google-analytics.com/collect\"\n",
    "    payload = {\n",
    "        'v': '1',  # Версия протокола\n",
    "        'tid': tracking_id,  # ID отслеживания\n",
    "        'cid': conversion['client_id'],  # Client ID\n",
    "        't': 'event',  # Тип хит-событие\n",
    "        'ec': conversion['category'],  # Категория события\n",
    "        'ea': conversion['action'],  # Действие события\n",
    "        'el': conversion['label'],  # Метка события\n",
    "        'ev': conversion['value']  # Значение события\n",
    "    }\n",
    "    response = requests.post(url, data=payload)\n",
    "    return response\n",
    "\n",
    "# Пример данных для тестирования\n",
    "test_conversion = {\n",
    "    \"client_id\": \"123456.789\",  # Пример Client ID (_ga)\n",
    "    \"category\": \"Заявки\",\n",
    "    \"action\": \"Загрузка\",\n",
    "    \"label\": \"CRM\",\n",
    "    \"value\": 1000\n",
    "}\n",
    "\n",
    "# Отправка тестовой конверсии\n",
    "response = send_conversion_to_ga(test_conversion)\n",
    "\n",
    "if response.status_code == 200:\n",
    "    print(\"Conversion uploaded successfully!\")\n",
    "else:\n",
    "    print(f\"Error: {response.status_code}\")\n",
    "    print(f\"Message: {response.text}\")\n"
   ]
  },
  {
   "cell_type": "markdown",
   "id": "58460685-dc78-4749-b18e-1957d79177be",
   "metadata": {},
   "source": [
    "Функция для отправки конверсий в Google Analytics"
   ]
  },
  {
   "cell_type": "code",
   "execution_count": null,
   "id": "161ad0b5-fdfb-4f70-bb47-3c0886498479",
   "metadata": {},
   "outputs": [],
   "source": []
  }
 ],
 "metadata": {
  "kernelspec": {
   "display_name": "Python 3 (ipykernel)",
   "language": "python",
   "name": "python3"
  },
  "language_info": {
   "codemirror_mode": {
    "name": "ipython",
    "version": 3
   },
   "file_extension": ".py",
   "mimetype": "text/x-python",
   "name": "python",
   "nbconvert_exporter": "python",
   "pygments_lexer": "ipython3",
   "version": "3.11.5"
  }
 },
 "nbformat": 4,
 "nbformat_minor": 5
}
